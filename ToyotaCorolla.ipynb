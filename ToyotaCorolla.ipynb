{
 "cells": [
  {
   "cell_type": "code",
   "execution_count": 1,
   "id": "e6d36462",
   "metadata": {},
   "outputs": [],
   "source": [
    "import pandas as pd\n",
    "import numpy as np\n",
    "\n",
    "from scipy.spatial.distance import pdist, squareform\n",
    "from scipy.cluster.hierarchy import linkage\n",
    "import scipy.cluster.hierarchy as sch \n",
    "from scipy.cluster.hierarchy import dendrogram\n",
    "from scipy.cluster import hierarchy as clust\n",
    "\n",
    "from sklearn import preprocessing as prep\n",
    "from sklearn.preprocessing import binarize\n",
    "from sklearn.model_selection import train_test_split\n",
    "from sklearn import metrics, svm\n",
    "from sklearn.neighbors import NearestNeighbors, KNeighborsClassifier\n",
    "from sklearn.linear_model import LogisticRegression\n",
    "from sklearn.linear_model import LinearRegression, Ridge, RidgeCV, Lasso, LassoCV, RANSACRegressor\n",
    "from sklearn.metrics import accuracy_score, mean_absolute_percentage_error, mean_absolute_error, r2_score, mean_squared_error\n",
    "from sklearn.linear_model import RidgeClassifierCV\n",
    "from sklearn.cluster import AgglomerativeClustering as ac\n",
    "from sklearn.decomposition import PCA\n",
    "from sklearn.pipeline import Pipeline\n",
    "from sklearn.preprocessing import StandardScaler\n",
    "\n",
    "\n",
    "from matplotlib.pyplot import figure\n",
    "import matplotlib.pyplot as plt\n",
    "\n",
    "import plotly.graph_objects as go\n",
    "import plotly.express as px\n",
    "import plotly.offline as pyo\n",
    "import plotly.figure_factory as ff\n",
    "import plotly.io as pio\n",
    "\n",
    "import seaborn as sns\n",
    "import kaleido\n",
    "\n",
    "import statsmodels.api\n",
    "import statsmodels.api as sm\n",
    "from statsmodels.formula.api import ols"
   ]
  },
  {
   "cell_type": "markdown",
   "id": "3fa57587",
   "metadata": {},
   "source": [
    "# ToyotaCorollaPrice"
   ]
  },
  {
   "cell_type": "markdown",
   "id": "ffe0c059",
   "metadata": {},
   "source": [
    "Our aim is to predict the price of the cars in dataframe"
   ]
  },
  {
   "cell_type": "markdown",
   "id": "06495a70",
   "metadata": {},
   "source": [
    "## EDA"
   ]
  },
  {
   "cell_type": "code",
   "execution_count": 2,
   "id": "2421a9a0",
   "metadata": {},
   "outputs": [
    {
     "name": "stdout",
     "output_type": "stream",
     "text": [
      "Missing values= 0\n",
      "duplicated values = 0\n",
      "<class 'pandas.core.frame.DataFrame'>\n",
      "RangeIndex: 1436 entries, 0 to 1435\n",
      "Data columns (total 39 columns):\n",
      " #   Column             Non-Null Count  Dtype \n",
      "---  ------             --------------  ----- \n",
      " 0   Id                 1436 non-null   int64 \n",
      " 1   Model              1436 non-null   object\n",
      " 2   Price              1436 non-null   int64 \n",
      " 3   Age_08_04          1436 non-null   int64 \n",
      " 4   Mfg_Month          1436 non-null   int64 \n",
      " 5   Mfg_Year           1436 non-null   int64 \n",
      " 6   KM                 1436 non-null   int64 \n",
      " 7   Fuel_Type          1436 non-null   object\n",
      " 8   HP                 1436 non-null   int64 \n",
      " 9   Met_Color          1436 non-null   int64 \n",
      " 10  Color              1436 non-null   object\n",
      " 11  Automatic          1436 non-null   int64 \n",
      " 12  CC                 1436 non-null   int64 \n",
      " 13  Doors              1436 non-null   int64 \n",
      " 14  Cylinders          1436 non-null   int64 \n",
      " 15  Gears              1436 non-null   int64 \n",
      " 16  Quarterly_Tax      1436 non-null   int64 \n",
      " 17  Weight             1436 non-null   int64 \n",
      " 18  Mfr_Guarantee      1436 non-null   int64 \n",
      " 19  BOVAG_Guarantee    1436 non-null   int64 \n",
      " 20  Guarantee_Period   1436 non-null   int64 \n",
      " 21  ABS                1436 non-null   int64 \n",
      " 22  Airbag_1           1436 non-null   int64 \n",
      " 23  Airbag_2           1436 non-null   int64 \n",
      " 24  Airco              1436 non-null   int64 \n",
      " 25  Automatic_airco    1436 non-null   int64 \n",
      " 26  Boardcomputer      1436 non-null   int64 \n",
      " 27  CD_Player          1436 non-null   int64 \n",
      " 28  Central_Lock       1436 non-null   int64 \n",
      " 29  Powered_Windows    1436 non-null   int64 \n",
      " 30  Power_Steering     1436 non-null   int64 \n",
      " 31  Radio              1436 non-null   int64 \n",
      " 32  Mistlamps          1436 non-null   int64 \n",
      " 33  Sport_Model        1436 non-null   int64 \n",
      " 34  Backseat_Divider   1436 non-null   int64 \n",
      " 35  Metallic_Rim       1436 non-null   int64 \n",
      " 36  Radio_cassette     1436 non-null   int64 \n",
      " 37  Parking_Assistant  1436 non-null   int64 \n",
      " 38  Tow_Bar            1436 non-null   int64 \n",
      "dtypes: int64(36), object(3)\n",
      "memory usage: 437.7+ KB\n"
     ]
    }
   ],
   "source": [
    "dftoyota = pd.read_csv('ToyotaCorolla.csv') # Reading data\n",
    "print('Missing values=',sum(dftoyota.isnull().sum())) # Checking missing values\n",
    "print('duplicated values =',sum(dftoyota[dftoyota.duplicated()].count())) # Checking duplicate values\n",
    "dftoyota.info()"
   ]
  },
  {
   "cell_type": "markdown",
   "id": "0803f02e",
   "metadata": {},
   "source": [
    "* There is no missing value or duplicated value in this data\n",
    "* There are three categorical variables needed to handle"
   ]
  },
  {
   "cell_type": "markdown",
   "id": "7b0afa6b",
   "metadata": {},
   "source": [
    "Since there are too many variables, applying pca seems to be a good method to deal with these."
   ]
  },
  {
   "cell_type": "markdown",
   "id": "57b8a100",
   "metadata": {},
   "source": [
    "### Data Processing"
   ]
  },
  {
   "cell_type": "code",
   "execution_count": 3,
   "id": "e689aead",
   "metadata": {
    "scrolled": true
   },
   "outputs": [],
   "source": [
    "#Dummy Variables\n",
    "dftoyotaD = pd.get_dummies(data=dftoyota, columns=['Model', 'Fuel_Type', 'Color'], drop_first=True, dtype='int')\n",
    "dftoyotaDd = dftoyotaD.drop(columns=['Id'])\n",
    "# Split DataX \n",
    "X= dftoyotaDd[dftoyotaDd.columns.difference(['Price'])]\n",
    "y = dftoyotaDd['Price'] \n",
    "X_train, X_test, y_train, y_test = train_test_split(X,y, test_size=0.3,random_state=2022)\n",
    "# Normalize Data\n",
    "X_train_means = X_train.select_dtypes(include='int64').mean()\n",
    "X_train_std = X_train.select_dtypes(include='int64').std()\n",
    "X_train_float = (X_train.select_dtypes(include='int64') - X_train_means)/X_train_std\n",
    "X_test_float = (X_test.select_dtypes(include='int64') - X_train_means)/X_train_std\n",
    "#Drop NA\n",
    "#X_train= X_train.dropna(axis=1)\n",
    "#X_test= X_test.dropna(axis=1)"
   ]
  },
  {
   "cell_type": "markdown",
   "id": "b76cef32",
   "metadata": {},
   "source": [
    "#### Process numeric variables-PCA"
   ]
  },
  {
   "cell_type": "code",
   "execution_count": 4,
   "id": "57427fa3",
   "metadata": {
    "scrolled": true
   },
   "outputs": [
    {
     "data": {
      "text/html": [
       "<div>\n",
       "<style scoped>\n",
       "    .dataframe tbody tr th:only-of-type {\n",
       "        vertical-align: middle;\n",
       "    }\n",
       "\n",
       "    .dataframe tbody tr th {\n",
       "        vertical-align: top;\n",
       "    }\n",
       "\n",
       "    .dataframe thead th {\n",
       "        text-align: right;\n",
       "    }\n",
       "</style>\n",
       "<table border=\"1\" class=\"dataframe\">\n",
       "  <thead>\n",
       "    <tr style=\"text-align: right;\">\n",
       "      <th></th>\n",
       "      <th>PC1</th>\n",
       "      <th>PC2</th>\n",
       "      <th>PC3</th>\n",
       "      <th>PC4</th>\n",
       "      <th>PC5</th>\n",
       "      <th>PC6</th>\n",
       "      <th>PC7</th>\n",
       "      <th>PC8</th>\n",
       "      <th>PC9</th>\n",
       "      <th>PC10</th>\n",
       "      <th>...</th>\n",
       "      <th>PC25</th>\n",
       "      <th>PC26</th>\n",
       "      <th>PC27</th>\n",
       "      <th>PC28</th>\n",
       "      <th>PC29</th>\n",
       "      <th>PC30</th>\n",
       "      <th>PC31</th>\n",
       "      <th>PC32</th>\n",
       "      <th>PC33</th>\n",
       "      <th>PC34</th>\n",
       "    </tr>\n",
       "  </thead>\n",
       "  <tbody>\n",
       "    <tr>\n",
       "      <th>Standard Deviation</th>\n",
       "      <td>2.348798</td>\n",
       "      <td>1.747867</td>\n",
       "      <td>1.545595</td>\n",
       "      <td>1.428675</td>\n",
       "      <td>1.414935</td>\n",
       "      <td>1.214306</td>\n",
       "      <td>1.153766</td>\n",
       "      <td>1.104202</td>\n",
       "      <td>1.079547</td>\n",
       "      <td>1.035965</td>\n",
       "      <td>...</td>\n",
       "      <td>0.658219</td>\n",
       "      <td>0.657560</td>\n",
       "      <td>0.525926</td>\n",
       "      <td>0.476398</td>\n",
       "      <td>0.449923</td>\n",
       "      <td>0.424270</td>\n",
       "      <td>0.349635</td>\n",
       "      <td>0.086583</td>\n",
       "      <td>1.043076e-15</td>\n",
       "      <td>1.940051e-16</td>\n",
       "    </tr>\n",
       "    <tr>\n",
       "      <th>Proportion of Variance</th>\n",
       "      <td>0.167177</td>\n",
       "      <td>0.092577</td>\n",
       "      <td>0.072390</td>\n",
       "      <td>0.061852</td>\n",
       "      <td>0.060668</td>\n",
       "      <td>0.044683</td>\n",
       "      <td>0.040339</td>\n",
       "      <td>0.036947</td>\n",
       "      <td>0.035316</td>\n",
       "      <td>0.032522</td>\n",
       "      <td>...</td>\n",
       "      <td>0.013129</td>\n",
       "      <td>0.013103</td>\n",
       "      <td>0.008382</td>\n",
       "      <td>0.006877</td>\n",
       "      <td>0.006134</td>\n",
       "      <td>0.005455</td>\n",
       "      <td>0.003704</td>\n",
       "      <td>0.000227</td>\n",
       "      <td>3.296992e-32</td>\n",
       "      <td>1.140544e-33</td>\n",
       "    </tr>\n",
       "    <tr>\n",
       "      <th>Cumulative Proportion</th>\n",
       "      <td>0.167177</td>\n",
       "      <td>0.259754</td>\n",
       "      <td>0.332144</td>\n",
       "      <td>0.393996</td>\n",
       "      <td>0.454664</td>\n",
       "      <td>0.499347</td>\n",
       "      <td>0.539685</td>\n",
       "      <td>0.576633</td>\n",
       "      <td>0.611949</td>\n",
       "      <td>0.644471</td>\n",
       "      <td>...</td>\n",
       "      <td>0.956118</td>\n",
       "      <td>0.969220</td>\n",
       "      <td>0.977602</td>\n",
       "      <td>0.984479</td>\n",
       "      <td>0.990614</td>\n",
       "      <td>0.996068</td>\n",
       "      <td>0.999773</td>\n",
       "      <td>1.000000</td>\n",
       "      <td>1.000000e+00</td>\n",
       "      <td>1.000000e+00</td>\n",
       "    </tr>\n",
       "  </tbody>\n",
       "</table>\n",
       "<p>3 rows × 34 columns</p>\n",
       "</div>"
      ],
      "text/plain": [
       "                             PC1       PC2       PC3       PC4       PC5  \\\n",
       "Standard Deviation      2.348798  1.747867  1.545595  1.428675  1.414935   \n",
       "Proportion of Variance  0.167177  0.092577  0.072390  0.061852  0.060668   \n",
       "Cumulative Proportion   0.167177  0.259754  0.332144  0.393996  0.454664   \n",
       "\n",
       "                             PC6       PC7       PC8       PC9      PC10  ...  \\\n",
       "Standard Deviation      1.214306  1.153766  1.104202  1.079547  1.035965  ...   \n",
       "Proportion of Variance  0.044683  0.040339  0.036947  0.035316  0.032522  ...   \n",
       "Cumulative Proportion   0.499347  0.539685  0.576633  0.611949  0.644471  ...   \n",
       "\n",
       "                            PC25      PC26      PC27      PC28      PC29  \\\n",
       "Standard Deviation      0.658219  0.657560  0.525926  0.476398  0.449923   \n",
       "Proportion of Variance  0.013129  0.013103  0.008382  0.006877  0.006134   \n",
       "Cumulative Proportion   0.956118  0.969220  0.977602  0.984479  0.990614   \n",
       "\n",
       "                            PC30      PC31      PC32          PC33  \\\n",
       "Standard Deviation      0.424270  0.349635  0.086583  1.043076e-15   \n",
       "Proportion of Variance  0.005455  0.003704  0.000227  3.296992e-32   \n",
       "Cumulative Proportion   0.996068  0.999773  1.000000  1.000000e+00   \n",
       "\n",
       "                                PC34  \n",
       "Standard Deviation      1.940051e-16  \n",
       "Proportion of Variance  1.140544e-33  \n",
       "Cumulative Proportion   1.000000e+00  \n",
       "\n",
       "[3 rows x 34 columns]"
      ]
     },
     "metadata": {},
     "output_type": "display_data"
    },
    {
     "data": {
      "image/png": "[encoded data removed]",
      "text/plain": [
       "<Figure size 1600x400 with 1 Axes>"
      ]
     },
     "metadata": {
      "needs_background": "light"
     },
     "output_type": "display_data"
    }
   ],
   "source": [
    "pcs=PCA()\n",
    "pcs.fit(X_train_float)\n",
    "pcsSummary_df = pd.DataFrame({'Standard Deviation': np.sqrt(pcs.explained_variance_),\n",
    "                              'Proportion of Variance': pcs.explained_variance_ratio_,\n",
    "                              'Cumulative Proportion': np.cumsum(pcs.explained_variance_ratio_)\n",
    "                             })\n",
    "pcsSummary_df = pcsSummary_df.round(4)\n",
    "\n",
    "#pcsSummary_df.sort_values(by='Proportion of Variance',ascending =False).head(250)\n",
    "\n",
    "pcsSummary_df = pd.DataFrame({'Standard Deviation': np.sqrt(pcs.explained_variance_),\n",
    "                              'Proportion of Variance': pcs.explained_variance_ratio_,\n",
    "                              'Cumulative Proportion': np.cumsum(pcs.explained_variance_ratio_)\n",
    "                             })\n",
    "        \n",
    "# Set the columns name\n",
    "pcsSummary_dft = pcsSummary_df.transpose()\n",
    "pcsSummary_dft.columns=['PC{}'.format(i) for i in range(1, len(pcsSummary_dft.columns) + 1)]\n",
    "# Print the table\n",
    "display(pcsSummary_dft)\n",
    "# Round to the fourth decimal\n",
    "pcsSummary_df.round(4)\n",
    "# Adjust the canvas\n",
    "figure(figsize=(20, 5), dpi=80)\n",
    "# Plot\n",
    "plt.plot(pcsSummary_dft.columns, pcsSummary_df['Cumulative Proportion'], 'o-', linewidth=2)\n",
    "plt.title('Scree Plot')\n",
    "plt.xlabel('Principal Component')\n",
    "plt.ylabel('Cumulative Proportion')\n",
    "plt.show()"
   ]
  },
  {
   "cell_type": "markdown",
   "id": "09aafd24",
   "metadata": {},
   "source": [
    "In this case, From PC1 to PC 20 seems to be great numeric decision variables for our model since they account for 0.8 cumulative proportion in this data. "
   ]
  },
  {
   "cell_type": "markdown",
   "id": "4eefec25",
   "metadata": {},
   "source": [
    "#### Process categorical variables-ANOVA"
   ]
  },
  {
   "cell_type": "code",
   "execution_count": 5,
   "id": "57e0aa4c",
   "metadata": {
    "scrolled": true
   },
   "outputs": [
    {
     "data": {
      "text/html": [
       "<div>\n",
       "<style scoped>\n",
       "    .dataframe tbody tr th:only-of-type {\n",
       "        vertical-align: middle;\n",
       "    }\n",
       "\n",
       "    .dataframe tbody tr th {\n",
       "        vertical-align: top;\n",
       "    }\n",
       "\n",
       "    .dataframe thead th {\n",
       "        text-align: right;\n",
       "    }\n",
       "</style>\n",
       "<table border=\"1\" class=\"dataframe\">\n",
       "  <thead>\n",
       "    <tr style=\"text-align: right;\">\n",
       "      <th></th>\n",
       "      <th>sum_sq</th>\n",
       "      <th>df</th>\n",
       "      <th>F</th>\n",
       "      <th>PR(&gt;F)</th>\n",
       "    </tr>\n",
       "  </thead>\n",
       "  <tbody>\n",
       "    <tr>\n",
       "      <th>Model</th>\n",
       "      <td>1.605136e+10</td>\n",
       "      <td>318.0</td>\n",
       "      <td>31.845063</td>\n",
       "      <td>0.000000</td>\n",
       "    </tr>\n",
       "    <tr>\n",
       "      <th>Fuel_Type</th>\n",
       "      <td>1.285081e+07</td>\n",
       "      <td>2.0</td>\n",
       "      <td>4.053760</td>\n",
       "      <td>0.017615</td>\n",
       "    </tr>\n",
       "    <tr>\n",
       "      <th>Color</th>\n",
       "      <td>2.930897e+07</td>\n",
       "      <td>9.0</td>\n",
       "      <td>2.054544</td>\n",
       "      <td>0.030847</td>\n",
       "    </tr>\n",
       "    <tr>\n",
       "      <th>Residual</th>\n",
       "      <td>1.754649e+09</td>\n",
       "      <td>1107.0</td>\n",
       "      <td>NaN</td>\n",
       "      <td>NaN</td>\n",
       "    </tr>\n",
       "  </tbody>\n",
       "</table>\n",
       "</div>"
      ],
      "text/plain": [
       "                 sum_sq      df          F    PR(>F)\n",
       "Model      1.605136e+10   318.0  31.845063  0.000000\n",
       "Fuel_Type  1.285081e+07     2.0   4.053760  0.017615\n",
       "Color      2.930897e+07     9.0   2.054544  0.030847\n",
       "Residual   1.754649e+09  1107.0        NaN       NaN"
      ]
     },
     "metadata": {},
     "output_type": "display_data"
    }
   ],
   "source": [
    "model = ols('Price~Model+Fuel_Type+Color', data=dftoyota).fit()\n",
    "anova_table = sm.stats.anova_lm(model, typ=2)\n",
    "display(anova_table)"
   ]
  },
  {
   "cell_type": "markdown",
   "id": "12c495ed",
   "metadata": {},
   "source": [
    "Through the ANOVA test, we know that at the 5 % level of significance, all of categorical variables are statistically insignificant since their p value are all smaller than 0.05, so I remove these categorical variables from the decision variables."
   ]
  },
  {
   "cell_type": "markdown",
   "id": "e254adef",
   "metadata": {},
   "source": [
    "#### Transform Data"
   ]
  },
  {
   "cell_type": "code",
   "execution_count": 6,
   "id": "31321bf3",
   "metadata": {},
   "outputs": [],
   "source": [
    "pcascore = pcs.transform(X_train_float)\n",
    "X_train = pd.DataFrame(pcascore).iloc[:,:19]\n",
    "# Set the columns name\n",
    "X_train.columns=['PC{}'.format(i) for i in range(1, len(X_train.columns) + 1)]\n",
    "\n",
    "pcascore = pcs.transform(X_test_float)#### Process categorical variables-ANOVA\n",
    "X_test = pd.DataFrame(pcascore).iloc[:,:19]\n",
    "# Set the columns name\n",
    "X_test.columns=['PC{}'.format(i) for i in range(1, len(X_train.columns) + 1)]"
   ]
  },
  {
   "cell_type": "markdown",
   "id": "25ced602",
   "metadata": {},
   "source": [
    "### Benchmark-Linear Regression"
   ]
  },
  {
   "cell_type": "code",
   "execution_count": 7,
   "id": "77fdbc5c",
   "metadata": {},
   "outputs": [
    {
     "data": {
      "text/plain": [
       "LinearRegression()"
      ]
     },
     "execution_count": 7,
     "metadata": {},
     "output_type": "execute_result"
    }
   ],
   "source": [
    "Lin_reg = LinearRegression()\n",
    "Lin_reg.fit(X_train,y_train)"
   ]
  },
  {
   "cell_type": "code",
   "execution_count": 8,
   "id": "a68e7464",
   "metadata": {},
   "outputs": [],
   "source": [
    "# Define Showing performance\n",
    "\n",
    "# Creating formula\n",
    "\n",
    "def train_test_metrics(X_train,X_test,y_train,y_test,model):\n",
    "    names=['R2','MAE','MAPE'] \n",
    "    \n",
    "    # Training Metrics\n",
    "    y_hat = model.predict(X_train)\n",
    "    \n",
    "    # Create R2\n",
    "    r2 = r2_score(y_train,y_hat).round(3)\n",
    "    \n",
    "    # Create MAE\n",
    "    mae = mean_absolute_error(y_train,y_hat).round(3)\n",
    "    \n",
    "    # Create MAPE\n",
    "    mape = mean_absolute_percentage_error(y_train,y_hat).round(3)*100\n",
    "  \n",
    "    # Create MSE\n",
    "    #mse = (mean_squared_error(y_train,y_hat)*len(y_train)).round(3)\n",
    "    \n",
    "    train_metrics = [r2, mae, mape]\n",
    "    train_metrics = pd.DataFrame({'Train':train_metrics},index=names)\n",
    "    \n",
    "    # Testing Metrics\n",
    "    y_hat = model.predict(X_test)\n",
    "    test_metrics = [r2_score(y_test,y_hat).round(3),\n",
    "                    mean_absolute_error(y_test,y_hat).round(3),\n",
    "                    mean_absolute_percentage_error(y_test,y_hat).round(3)*100,\n",
    "                    #(mean_squared_error(y_test,y_hat)*len(y_test)).round(3)\n",
    "                   ]\n",
    "    test_metrics = pd.DataFrame({'Test':test_metrics},index=names)\n",
    "    \n",
    "    all_metrics = train_metrics.merge(test_metrics,left_index=True,right_index=True)\n",
    "    \n",
    "    #print(pd.DataFrame({'Predictor':X_train.columns}))\n",
    "                       # 'coefficent':model.coef_.round(3)}))\n",
    "    #print('\\n')\n",
    "    print(all_metrics.round(3))\n",
    "    print('\\n')\n",
    "    \n",
    "def data_model_plot(X_train,X_test,y_train,y_test,model):\n",
    "\n",
    "    x_train_sorted = X_train.copy()\n",
    "    y_train_pred = model.predict(X_train)\n",
    "\n",
    "    x_train_sorted.insert(1,'y_train_hat',y_train_pred)\n",
    "    x_train_sorted.sort_values(by='PC1',ascending=True,inplace=True)\n",
    "\n",
    "    x_test_sorted = X_test.copy()\n",
    "    y_test_pred = model.predict(X_test)\n",
    "\n",
    "    x_test_sorted.insert(1,'y_test_hat',y_test_pred)\n",
    "    x_test_sorted.sort_values(by='PC1',ascending=True,inplace=True)\n",
    "\n",
    "    trace0 = dict(mode='markers',\n",
    "                  type='scatter',\n",
    "                  name='Training Data',\n",
    "                  marker = dict(size=10,\n",
    "                                line=dict(width=1,\n",
    "                                          color='DarkSlateGrey'),\n",
    "                                opacity=0.7\n",
    "                               ),\n",
    "                  x=X_train.iloc[:,0],\n",
    "                  y=y_train,\n",
    "                  xaxis='x1',\n",
    "                  yaxis='y'\n",
    "                 )\n",
    "    trace1 = dict(mode='markers',\n",
    "                  type='scatter',\n",
    "                  name='Test Data',\n",
    "                  marker = dict(size=10,\n",
    "                                line=dict(width=1,\n",
    "                                          color='DarkSlateGrey'),\n",
    "                                opacity=0.7\n",
    "                               ),\n",
    "                  x=X_test.iloc[:,0],\n",
    "                  y=y_test,\n",
    "                  xaxis='x2',\n",
    "                  yaxis='y'\n",
    "                 )\n",
    "\n",
    "    trace2 = dict(mode='lines',\n",
    "                  type='scatter',\n",
    "                  name='Model->Train',\n",
    "                  x=x_train_sorted.iloc[:,0],\n",
    "                  y=x_train_sorted['y_train_hat'],\n",
    "                  xaxis='x1',\n",
    "                  yaxis='y'\n",
    "                 )\n",
    "    trace3 = dict(mode='lines',\n",
    "                  type='scatter',\n",
    "                  name='Model->Test',\n",
    "                  x=x_test_sorted.iloc[:,0],\n",
    "                  y=x_test_sorted['y_test_hat'],\n",
    "                  xaxis='x2',\n",
    "                  yaxis='y'\n",
    "                 )\n",
    "    layout = dict(title='Train vs Test',\n",
    "                  xaxis1 = dict(title='Explanatory Variable',\n",
    "                                showgrid=False,\n",
    "                                anchor='y',\n",
    "                                domain=[0,0.45]\n",
    "                               ),\n",
    "                  xaxis2 = dict(title='Explanatory Variable',\n",
    "                                showgrid=False,\n",
    "                                anchor='y',\n",
    "                                domain=[0.55,1]\n",
    "                               ),              \n",
    "                  yaxis = dict(title='Target Variable',\n",
    "                               showgrid=False,\n",
    "                               zeroline=False\n",
    "                              ),\n",
    "                  plot_bgcolor='#eee8e8',\n",
    "                  height=500,\n",
    "                  width=900\n",
    "                 )\n",
    "\n",
    "\n",
    "    plot_data = [trace0,trace1,trace2,trace3]\n",
    "\n",
    "    # Bring data and layout objects together in a single figure\n",
    "    fig = go.Figure(plot_data,layout)\n",
    "\n",
    "    # Render the figure\n",
    "    return fig.show('png')\n",
    "\n",
    "def display_output(X_train,X_test,y_train,y_test,model):\n",
    "    print(pd.DataFrame({'Predictor':X_train.columns, 'coefficent':model.coef_}))\n",
    "    print('\\n')\n",
    "    print(train_test_metrics(X_train,X_test,y_train,y_test,model))\n",
    "    print('\\n')\n",
    "    data_model_plot(X_train,X_test,y_train,y_test,model)"
   ]
  },
  {
   "cell_type": "code",
   "execution_count": null,
   "id": "42a35b57",
   "metadata": {},
   "outputs": [
    {
     "name": "stdout",
     "output_type": "stream",
     "text": [
      "        Train     Test\n",
      "R2      0.883    0.893\n",
      "MAE   911.877  905.938\n",
      "MAPE    9.100    8.900\n",
      "\n",
      "\n"
     ]
    }
   ],
   "source": [
    "train_test_metrics(X_train,X_test,y_train,y_test,Lin_reg)\n",
    "data_model_plot(X_train,X_test,y_train,y_test,Lin_reg)"
   ]
  },
  {
   "cell_type": "markdown",
   "id": "833f1d7e",
   "metadata": {},
   "source": [
    "### Ridge Regression"
   ]
  },
  {
   "cell_type": "code",
   "execution_count": null,
   "id": "e19273a2",
   "metadata": {},
   "outputs": [],
   "source": [
    "Rig_reg = RidgeCV()\n",
    "Rig_reg.fit(X_train,y_train)\n",
    "train_test_metrics(X_train,X_test,y_train,y_test,Rig_reg)"
   ]
  },
  {
   "cell_type": "markdown",
   "id": "cfa5b261",
   "metadata": {},
   "source": [
    "### Lasso Regression"
   ]
  },
  {
   "cell_type": "code",
   "execution_count": null,
   "id": "546f5862",
   "metadata": {
    "scrolled": true
   },
   "outputs": [],
   "source": [
    "Lso_reg = LassoCV()\n",
    "Lso_reg.fit(X_train,y_train)\n",
    "train_test_metrics(X_train,X_test,y_train,y_test,Lso_reg)"
   ]
  },
  {
   "cell_type": "markdown",
   "id": "0252c152",
   "metadata": {},
   "source": [
    "### RANSAC"
   ]
  },
  {
   "cell_type": "code",
   "execution_count": null,
   "id": "5f1e2116",
   "metadata": {
    "scrolled": true
   },
   "outputs": [],
   "source": [
    "RAN_reg = RANSACRegressor(random_state=0).fit(X_train,y_train)\n",
    "train_test_metrics(X_train,X_test,y_train,y_test,RAN_reg)"
   ]
  },
  {
   "cell_type": "markdown",
   "id": "4d6d3d7a",
   "metadata": {},
   "source": [
    " R2 is negative only when the chosen model does not follow the trend of the data, so fits worse than a horizontal line."
   ]
  },
  {
   "cell_type": "code",
   "execution_count": null,
   "id": "f66012d7",
   "metadata": {},
   "outputs": [],
   "source": [
    "pip install regressors"
   ]
  },
  {
   "cell_type": "markdown",
   "id": "4321b242",
   "metadata": {},
   "source": [
    "## Conclusion"
   ]
  },
  {
   "cell_type": "markdown",
   "id": "e39b2590",
   "metadata": {},
   "source": [
    "* As the result shown above, our benchmark model linear regression has the approximate performance as Ride and Lasso. These three models appear to have same performance, and RANSAC Regression is totally worse in predict the price of these cars."
   ]
  }
 ],
 "metadata": {
  "kernelspec": {
   "display_name": "Python 3 (ipykernel)",
   "language": "python",
   "name": "python3"
  },
  "language_info": {
   "codemirror_mode": {
    "name": "ipython",
    "version": 3
   },
   "file_extension": ".py",
   "mimetype": "text/x-python",
   "name": "python",
   "nbconvert_exporter": "python",
   "pygments_lexer": "ipython3",
   "version": "3.9.7"
  }
 },
 "nbformat": 4,
 "nbformat_minor": 5
}
