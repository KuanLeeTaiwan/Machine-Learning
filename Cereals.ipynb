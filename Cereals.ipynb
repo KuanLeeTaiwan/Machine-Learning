{
 "cells": [
  {
   "cell_type": "code",
   "execution_count": null,
   "id": "9e7c92d7",
   "metadata": {},
   "outputs": [],
   "source": [
    "import pandas as pd\n",
    "import numpy as np\n",
    "\n",
    "from scipy.spatial.distance import pdist, squareform\n",
    "from scipy.cluster.hierarchy import linkage\n",
    "import scipy.cluster.hierarchy as sch \n",
    "from scipy.cluster.hierarchy import dendrogram\n",
    "from scipy.cluster import hierarchy as clust\n",
    "\n",
    "from sklearn import preprocessing as prep\n",
    "from sklearn.preprocessing import binarize\n",
    "from sklearn.model_selection import train_test_split\n",
    "from sklearn import metrics, svm\n",
    "from sklearn.neighbors import NearestNeighbors, KNeighborsClassifier\n",
    "from sklearn.linear_model import LogisticRegression\n",
    "from sklearn.linear_model import LinearRegression, Ridge, RidgeCV, Lasso, LassoCV, RANSACRegressor\n",
    "from sklearn.metrics import accuracy_score, mean_absolute_percentage_error, mean_absolute_error, r2_score, mean_squared_error\n",
    "from sklearn.linear_model import RidgeClassifierCV\n",
    "from sklearn.cluster import AgglomerativeClustering as ac\n",
    "from sklearn.decomposition import PCA\n",
    "from sklearn.pipeline import Pipeline\n",
    "from sklearn.preprocessing import StandardScaler\n",
    "from sklearn.cluster import KMeans\n",
    "from sklearn.cluster import AgglomerativeClustering\n",
    "\n",
    "\n",
    "from matplotlib.pyplot import figure\n",
    "import matplotlib.pyplot as plt\n",
    "\n",
    "import plotly.graph_objects as go\n",
    "import plotly.express as px\n",
    "import plotly.offline as pyo\n",
    "import plotly.figure_factory as ff\n",
    "import plotly.io as pio\n",
    "\n",
    "import seaborn as sns\n",
    "import kaleido\n",
    "\n",
    "import statsmodels.api\n",
    "import statsmodels.api as sm\n",
    "from statsmodels.formula.api import ols"
   ]
  },
  {
   "cell_type": "markdown",
   "id": "65035c40",
   "metadata": {},
   "source": [
    "# Cereal Analysis"
   ]
  },
  {
   "cell_type": "markdown",
   "id": "45d2e4df",
   "metadata": {},
   "source": [
    "Our aim is to explore this data to futher understand what this data wants to tell us."
   ]
  },
  {
   "cell_type": "code",
   "execution_count": null,
   "id": "b8447d12",
   "metadata": {
    "scrolled": true
   },
   "outputs": [],
   "source": [
    "# Read data\n",
    "CerealsData = pd.read_csv(\"Cereals.csv\") \n",
    "# Select numerical data\n",
    "NumericData = CerealsData.select_dtypes(include='number')\n",
    "sns.pairplot(CerealsData)"
   ]
  },
  {
   "cell_type": "markdown",
   "id": "ef9e9405",
   "metadata": {},
   "source": [
    "* Sodium has the largest variability, and high variance not only can cause overfiiting in model,but also can decrease the statistical power, broadening C.I., so we should normalize this data.\n",
    "* Protien, fat, fiber, potass, vitamins, shelf, cups, and rating are all skewed"
   ]
  },
  {
   "cell_type": "code",
   "execution_count": null,
   "id": "14b5fb51",
   "metadata": {
    "scrolled": false
   },
   "outputs": [],
   "source": [
    "plt.figure(figsize=(20, 15))\n",
    "sns.heatmap(NumericData.corr(),annot=True)\n",
    "plt.show('png')"
   ]
  },
  {
   "cell_type": "markdown",
   "id": "e4e1db15",
   "metadata": {},
   "source": [
    "* As the heatmap shown above, calories, sugars, fat, sodium can lead a lower health rating, and portein, fiberm, and potass all have a positive relationship with rating. An interesting fact is vitamins seems to be good supplments, but they have a negative impact on health rating."
   ]
  },
  {
   "cell_type": "code",
   "execution_count": null,
   "id": "7a34e1ac",
   "metadata": {
    "scrolled": true
   },
   "outputs": [],
   "source": [
    "names = NumericData.columns\n",
    "ncols = len(names)\n",
    "fig, axes = plt.subplots(nrows=3, ncols=5,figsize=(15,15))\n",
    "for name, ax in zip(names, axes.flatten()):\n",
    "    sns.boxplot(y=name, x= CerealsData['type'], data=CerealsData, orient='v', ax=ax)\n",
    "    \n",
    "plt.tight_layout()"
   ]
  },
  {
   "cell_type": "markdown",
   "id": "b738e88d",
   "metadata": {},
   "source": [
    "* As the boxplots shown above, hot cereals contain higher portien and carbon, and with lower sugar and sodium, so if our aim is to target those customers who like to have healthy diet, we should promote hot cereals to them."
   ]
  },
  {
   "cell_type": "code",
   "execution_count": null,
   "id": "7b5e506d",
   "metadata": {},
   "outputs": [],
   "source": [
    "fig, axes = plt.subplots(nrows=3, ncols=5,figsize=(15,15))\n",
    "for name, ax in zip(names, axes.flatten()):\n",
    "    sns.boxplot(y=name, x= CerealsData['mfr'], data=CerealsData, orient='v', ax=ax)    \n",
    "plt.tight_layout()"
   ]
  },
  {
   "cell_type": "markdown",
   "id": "f9c8b83d",
   "metadata": {},
   "source": [
    "* The cereals made from Nabisco contain lower sugar, fat, and sodium, so it has the highest average healthy rating. "
   ]
  },
  {
   "cell_type": "code",
   "execution_count": null,
   "id": "8f4d752a",
   "metadata": {
    "scrolled": true
   },
   "outputs": [],
   "source": [
    "pcs = PCA()\n",
    "NumericData = (NumericData-NumericData.mean())/NumericData.std()\n",
    "NumericData = NumericData.drop(['rating','shelf'],axis=1)\n",
    "pcs.fit(NumericData.dropna(axis=0))\n",
    "pcsSummary_df = pd.DataFrame({'Standard Deviation': np.sqrt(pcs.explained_variance_),\n",
    "                              'Proportion of Variance': pcs.explained_variance_ratio_,\n",
    "                              'Cumulative Proportion': np.cumsum(pcs.explained_variance_ratio_)\n",
    "                             })\n",
    "pcsSummary_df = pcsSummary_df.transpose()\n",
    "pcsSummary_df.columns=['PC{}'.format(i) for i in range(1, len(pcsSummary_df.columns) + 1)]\n",
    "pcsSummary_df.round(4)\n",
    "\n",
    "# Adjust the canvas\n",
    "figure(figsize=(8, 5), dpi=80)\n",
    "\n",
    "# Plot\n",
    "plt.plot(pcsSummary_df.columns, pcs.explained_variance_ratio_, 'bo-', linewidth=2)\n",
    "plt.title('Scree Plot')\n",
    "plt.xlabel('Principal Component')\n",
    "plt.ylabel('Proportion of Variance Explained')\n",
    "plt.show('png')"
   ]
  },
  {
   "cell_type": "markdown",
   "id": "821eb87e",
   "metadata": {},
   "source": [
    "* The plot above shows that most variety in cereals can be explained by top 4 principal components."
   ]
  },
  {
   "cell_type": "code",
   "execution_count": null,
   "id": "80701fe2",
   "metadata": {
    "scrolled": true
   },
   "outputs": [],
   "source": [
    "pcsComponents_df = pd.DataFrame(pcs.components_.transpose(),\n",
    "                                columns=pcsSummary_df.columns,\n",
    "                                index=NumericData.columns\n",
    "                               )\n",
    "pcsComponents_df.iloc[:,:4]"
   ]
  },
  {
   "cell_type": "markdown",
   "id": "82ba1038",
   "metadata": {},
   "source": [
    "* Principal component 1 is mainly made of protein,fiber, potass, and negative cups.\n",
    "* Principal component 2 is mainly made of calories, sugars, and weight. It is intutive because sugars and calories have a positive relationship.\n",
    "* Principal component 3 is mainly made of protein, sodium, carbo, and sugars. \n",
    "* Principal component 4 is mainly made of protein and fat. "
   ]
  },
  {
   "cell_type": "code",
   "execution_count": null,
   "id": "23562ddf",
   "metadata": {
    "scrolled": true
   },
   "outputs": [],
   "source": [
    "# Create a list for appending SSE\n",
    "distortions = []\n",
    "# Find each SSE from clusters from 1 to 11\n",
    "NumericData=NumericData.dropna(how='any')\n",
    "for i in range(1, 11):\n",
    "    km = KMeans(n_clusters=i,\n",
    "                init='k-means++',\n",
    "                n_init=10,\n",
    "                max_iter=300,\n",
    "                random_state=0\n",
    "               )\n",
    "    km.fit(NumericData)\n",
    "    distortions.append(km.inertia_)\n",
    "\n",
    "# Create Elbow Plot\n",
    "fig = go.Figure()\n",
    "\n",
    "# Add traces\n",
    "fig.add_trace(go.Scatter(x=list(range(1,11)), \n",
    "                         y=distortions,\n",
    "                         mode='lines+markers',\n",
    "                         name='Distortion',\n",
    "                         marker=dict(size=8,\n",
    "                                     color='blue',\n",
    "                                     symbol='circle',\n",
    "                                     line=dict(width=2,\n",
    "                                               color='DarkSlateGrey'))))\n",
    "# Edit the layout\n",
    "fig.update_layout(title='k-Means Elbow Plot',\n",
    "                   xaxis_title='Cluster Count',\n",
    "                   yaxis_title='Distortion = SSE')\n",
    "\n",
    "fig.show('png')"
   ]
  },
  {
   "cell_type": "code",
   "execution_count": null,
   "id": "42814fe3",
   "metadata": {},
   "outputs": [],
   "source": [
    "# Create clusterNumericData\n",
    "clusters = linkage(pdist(NumericData, metric='euclidean'),method='average')\n",
    "clusters = pd.DataFrame(clusters,\n",
    "                         columns=['firm_i',\n",
    "                          'firm_j',\n",
    "                          'distance',\n",
    "                          'no. of firms in clust.'\n",
    "                             ],\n",
    "                         index=['cluster %d' %(i+1) for i in range(clusters.shape[0])])\n",
    "# Show table\n",
    "#display(clusters)\n",
    "\n",
    "# Adjust the canvas\n",
    "figure(figsize=(12, 8), dpi=80)\n",
    "\n",
    "# Making dendrogram and show\n",
    "thing_dendr = dendrogram(clusters)\n",
    "plt.tight_layout()\n",
    "plt.ylabel('Euclidian Distance')\n",
    "plt.axhline(y=5.5, color='r', linestyle='--')\n",
    "plt.show('png')"
   ]
  },
  {
   "cell_type": "markdown",
   "id": "b71696e2",
   "metadata": {},
   "source": [
    "* Through The Elbow Method, this data can be seperated into 4 main cereals clusters."
   ]
  }
 ],
 "metadata": {
  "kernelspec": {
   "display_name": "Python 3 (ipykernel)",
   "language": "python",
   "name": "python3"
  },
  "language_info": {
   "codemirror_mode": {
    "name": "ipython",
    "version": 3
   },
   "file_extension": ".py",
   "mimetype": "text/x-python",
   "name": "python",
   "nbconvert_exporter": "python",
   "pygments_lexer": "ipython3",
   "version": "3.8.8"
  }
 },
 "nbformat": 4,
 "nbformat_minor": 5
}
